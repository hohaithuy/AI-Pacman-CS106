{
  "nbformat": 4,
  "nbformat_minor": 0,
  "metadata": {
    "colab": {
      "name": "CS106-Q_Learning.ipynb",
      "provenance": [],
      "collapsed_sections": [],
      "include_colab_link": true
    },
    "kernelspec": {
      "name": "python3",
      "display_name": "Python 3"
    },
    "language_info": {
      "name": "python"
    }
  },
  "cells": [
    {
      "cell_type": "markdown",
      "metadata": {
        "id": "view-in-github",
        "colab_type": "text"
      },
      "source": [
        "<a href=\"https://colab.research.google.com/github/hohaithuy/AI-Pacman-CS106/blob/main/CS106_Q_Learning.ipynb\" target=\"_parent\"><img src=\"https://colab.research.google.com/assets/colab-badge.svg\" alt=\"Open In Colab\"/></a>"
      ]
    },
    {
      "cell_type": "code",
      "metadata": {
        "id": "g8P_laMcSQNk"
      },
      "source": [
        "import gym\n",
        "import numpy as np\n",
        "import random\n",
        "import time"
      ],
      "execution_count": 25,
      "outputs": []
    },
    {
      "cell_type": "code",
      "metadata": {
        "id": "xifGZ8j-SWPT"
      },
      "source": [
        "env = gym.make('FrozenLake-v0')"
      ],
      "execution_count": 26,
      "outputs": []
    },
    {
      "cell_type": "markdown",
      "source": [
        "# Set up environment"
      ],
      "metadata": {
        "id": "-UzZQI9CC3jL"
      }
    },
    {
      "cell_type": "code",
      "metadata": {
        "id": "ndrAGPFw3OXv"
      },
      "source": [
        "# Hyperparameters\n",
        "gamma = 0.99\n",
        "learning_rate = 0.1\n",
        "max_epsilon = 1.0\n",
        "min_epsilon = 0.01\n",
        "epsilon_decay_rate = 0.005\n",
        "\n",
        "num_episodes = 20000\n",
        "num_steps_per_episode = 100"
      ],
      "execution_count": 27,
      "outputs": []
    },
    {
      "cell_type": "code",
      "metadata": {
        "id": "SokFrgEz3OXx"
      },
      "source": [
        "def play(env, q_table, render=False):\n",
        "    state = env.reset()\n",
        "    total_reward = 0\n",
        "    steps = 0\n",
        "    done = False\n",
        "    while not done:\n",
        "        action = np.argmax(q_table[state, :])\n",
        "        next_state, reward, done, info = env.step(action)\n",
        "        total_reward += reward\n",
        "        steps += 1\n",
        "        if render:\n",
        "            env.render()\n",
        "            time.sleep(0.2)\n",
        "            if not done:\n",
        "                display.clear_output(wait=True)\n",
        "        state = next_state\n",
        "\n",
        "    return (total_reward, steps)"
      ],
      "execution_count": 28,
      "outputs": []
    },
    {
      "cell_type": "code",
      "source": [
        "def play_multiple_times(env, q_table, max_episodes):\n",
        "    success = 0\n",
        "    list_of_steps = []\n",
        "    for i in range(max_episodes):\n",
        "        total_reward, steps = play(env, q_table)\n",
        "\n",
        "        if total_reward > 0:\n",
        "            success += 1\n",
        "            list_of_steps.append(steps)\n",
        "\n",
        "    print(f'Number of successes: {success}/{max_episodes}')\n",
        "    print(f'Average number of steps: {np.mean(list_of_steps)}')"
      ],
      "metadata": {
        "id": "Q3jrcqrj3OXx"
      },
      "execution_count": 29,
      "outputs": []
    },
    {
      "cell_type": "markdown",
      "source": [
        "# Q-Learning"
      ],
      "metadata": {
        "id": "h58msIJk3JQ_"
      }
    },
    {
      "cell_type": "code",
      "metadata": {
        "colab": {
          "base_uri": "https://localhost:8080/"
        },
        "id": "KpG5Q7_XSdPw",
        "outputId": "6b56c6db-d53a-4db1-8f73-8e2274f6f6dc"
      },
      "source": [
        "# Initialize Q-value table randomly\n",
        "q_table = np.zeros((env.observation_space.n, env.action_space.n))\n",
        "print(q_table)"
      ],
      "execution_count": 30,
      "outputs": [
        {
          "output_type": "stream",
          "name": "stdout",
          "text": [
            "[[0. 0. 0. 0.]\n",
            " [0. 0. 0. 0.]\n",
            " [0. 0. 0. 0.]\n",
            " [0. 0. 0. 0.]\n",
            " [0. 0. 0. 0.]\n",
            " [0. 0. 0. 0.]\n",
            " [0. 0. 0. 0.]\n",
            " [0. 0. 0. 0.]\n",
            " [0. 0. 0. 0.]\n",
            " [0. 0. 0. 0.]\n",
            " [0. 0. 0. 0.]\n",
            " [0. 0. 0. 0.]\n",
            " [0. 0. 0. 0.]\n",
            " [0. 0. 0. 0.]\n",
            " [0. 0. 0. 0.]\n",
            " [0. 0. 0. 0.]]\n"
          ]
        }
      ]
    },
    {
      "cell_type": "code",
      "metadata": {
        "id": "d3xVez-WTeww"
      },
      "source": [
        "def q_learning(env, num_episodes, num_steps_per_episode, learning_rate, gamma, max_epsilon, min_epsilon, epsilon_decay_rate):\n",
        "    q_table = np.zeros((env.observation_space.n, env.action_space.n))\n",
        "    rewards_all = []\n",
        "    for episode in range(num_episodes):\n",
        "        state = env.reset()\n",
        "\n",
        "        reward_episode = 0.0\n",
        "        done = False\n",
        "        epsilon = min_epsilon + (max_epsilon - min_epsilon) * np.exp(-epsilon_decay_rate*episode)\n",
        "        for step in range(num_steps_per_episode):\n",
        "            exploration = random.uniform(0,1)\n",
        "            if exploration < epsilon:\n",
        "                action = env.action_space.sample()\n",
        "            else:\n",
        "                action = np.argmax(q_table[state, :])\n",
        "\n",
        "            next_state, reward, done, info = env.step(action)\n",
        "            q_table[state, action] = q_table[state, action] * (1 - learning_rate) + learning_rate * (reward + gamma * np.max(q_table[next_state,:]))\n",
        "\n",
        "            reward_episode += reward\n",
        "            state = next_state\n",
        "\n",
        "            if done:\n",
        "                break\n",
        "        rewards_all.append(reward_episode)\n",
        "    print(f'Episode {episode} finished')\n",
        "    return q_table, rewards_all"
      ],
      "execution_count": 31,
      "outputs": []
    },
    {
      "cell_type": "markdown",
      "source": [
        "### TEST"
      ],
      "metadata": {
        "id": "gJRQvOUd3Ebg"
      }
    },
    {
      "cell_type": "code",
      "metadata": {
        "colab": {
          "base_uri": "https://localhost:8080/"
        },
        "id": "jmauQUIQVOWr",
        "outputId": "40b1cf58-c3d2-4227-ec26-e78617087289"
      },
      "source": [
        "np.random.seed(1)\n",
        "q_table, rewards_all = q_learning(env, num_episodes, num_steps_per_episode, learning_rate, gamma, max_epsilon, min_epsilon, epsilon_decay_rate)"
      ],
      "execution_count": 32,
      "outputs": [
        {
          "output_type": "stream",
          "name": "stdout",
          "text": [
            "Episode 19999 finished\n"
          ]
        }
      ]
    },
    {
      "cell_type": "code",
      "metadata": {
        "id": "XBf-s9wsVX5Z",
        "colab": {
          "base_uri": "https://localhost:8080/"
        },
        "outputId": "55b35940-6cb8-4405-cb16-9934af971354"
      },
      "source": [
        "q_table"
      ],
      "execution_count": 33,
      "outputs": [
        {
          "output_type": "execute_result",
          "data": {
            "text/plain": [
              "array([[0.59741781, 0.47423443, 0.48888958, 0.46623275],\n",
              "       [0.29756348, 0.21362483, 0.23919755, 0.44840345],\n",
              "       [0.37056518, 0.24259265, 0.27894393, 0.29779193],\n",
              "       [0.12135228, 0.00471474, 0.0019311 , 0.00151173],\n",
              "       [0.61409378, 0.35208121, 0.33396581, 0.24781456],\n",
              "       [0.        , 0.        , 0.        , 0.        ],\n",
              "       [0.20431764, 0.16922888, 0.14419072, 0.09275124],\n",
              "       [0.        , 0.        , 0.        , 0.        ],\n",
              "       [0.41314414, 0.44657105, 0.29801698, 0.64890379],\n",
              "       [0.51410967, 0.70199298, 0.46218089, 0.38975667],\n",
              "       [0.61602622, 0.4347925 , 0.28480046, 0.29232652],\n",
              "       [0.        , 0.        , 0.        , 0.        ],\n",
              "       [0.        , 0.        , 0.        , 0.        ],\n",
              "       [0.46423618, 0.65685718, 0.8159611 , 0.47736315],\n",
              "       [0.77060607, 0.93908761, 0.7419307 , 0.75562695],\n",
              "       [0.        , 0.        , 0.        , 0.        ]])"
            ]
          },
          "metadata": {},
          "execution_count": 33
        }
      ]
    },
    {
      "cell_type": "code",
      "metadata": {
        "id": "8MAozcopVdi_",
        "colab": {
          "base_uri": "https://localhost:8080/"
        },
        "outputId": "e35df29c-7203-4880-f46a-d6c55e7a330a"
      },
      "source": [
        "print(sum(rewards_all))\n",
        "print(sum(rewards_all[0:1000]))\n",
        "print(sum(rewards_all[1000:2000]))\n",
        "print(sum(rewards_all[2000:3000]))\n",
        "print(sum(rewards_all[9000:10000]))\n",
        "print(sum(rewards_all[11000:12000]))\n",
        "print(sum(rewards_all[14000:15000]))\n",
        "print(sum(rewards_all[19000:]))"
      ],
      "execution_count": 34,
      "outputs": [
        {
          "output_type": "stream",
          "name": "stdout",
          "text": [
            "12788.0\n",
            "123.0\n",
            "553.0\n",
            "629.0\n",
            "662.0\n",
            "674.0\n",
            "658.0\n",
            "650.0\n"
          ]
        }
      ]
    },
    {
      "cell_type": "code",
      "source": [
        "play_multiple_times(env, q_table, 1000)"
      ],
      "metadata": {
        "colab": {
          "base_uri": "https://localhost:8080/"
        },
        "id": "hs-EbCUUSvf2",
        "outputId": "b6c66491-1f6d-4b27-f957-c2c984538308"
      },
      "execution_count": 35,
      "outputs": [
        {
          "output_type": "stream",
          "name": "stdout",
          "text": [
            "Number of successes: 757/1000\n",
            "Average number of steps: 37.513870541611624\n"
          ]
        }
      ]
    },
    {
      "cell_type": "code",
      "source": [
        ""
      ],
      "metadata": {
        "id": "bm4CcsAzSx-f"
      },
      "execution_count": 35,
      "outputs": []
    },
    {
      "cell_type": "markdown",
      "source": [
        "# SARSA"
      ],
      "metadata": {
        "id": "65LMZDjV3OXu"
      }
    },
    {
      "cell_type": "code",
      "metadata": {
        "colab": {
          "base_uri": "https://localhost:8080/"
        },
        "outputId": "a023189e-9f47-46ea-b507-49992067a527",
        "id": "6B_3FBNS3OXv"
      },
      "source": [
        "# Initialize Q-value table randomly\n",
        "q_table = np.zeros((env.observation_space.n, env.action_space.n))\n",
        "print(q_table)"
      ],
      "execution_count": 36,
      "outputs": [
        {
          "output_type": "stream",
          "name": "stdout",
          "text": [
            "[[0. 0. 0. 0.]\n",
            " [0. 0. 0. 0.]\n",
            " [0. 0. 0. 0.]\n",
            " [0. 0. 0. 0.]\n",
            " [0. 0. 0. 0.]\n",
            " [0. 0. 0. 0.]\n",
            " [0. 0. 0. 0.]\n",
            " [0. 0. 0. 0.]\n",
            " [0. 0. 0. 0.]\n",
            " [0. 0. 0. 0.]\n",
            " [0. 0. 0. 0.]\n",
            " [0. 0. 0. 0.]\n",
            " [0. 0. 0. 0.]\n",
            " [0. 0. 0. 0.]\n",
            " [0. 0. 0. 0.]\n",
            " [0. 0. 0. 0.]]\n"
          ]
        }
      ]
    },
    {
      "cell_type": "code",
      "metadata": {
        "id": "09w_1RR13OXw"
      },
      "source": [
        "def sarsa(env, num_episodes, num_steps_per_episode, learning_rate, gamma, max_epsilon, min_epsilon, epsilon_decay_rate):\n",
        "    q_table = np.zeros((env.observation_space.n, env.action_space.n))\n",
        "    rewards_all = []\n",
        "    for episode in range(num_episodes):\n",
        "        state = env.reset()\n",
        "\n",
        "        reward_episode = 0.0\n",
        "        done = False\n",
        "        epsilon = min_epsilon + (max_epsilon - min_epsilon) * np.exp(-epsilon_decay_rate*episode)\n",
        "\n",
        "        exploration = random.uniform(0,1)\n",
        "        if exploration < epsilon:\n",
        "            action = env.action_space.sample()\n",
        "        else:\n",
        "            action = np.argmax(q_table[state, :])\n",
        "\n",
        "        for step in range(num_steps_per_episode):\n",
        "\n",
        "            next_state, reward, done, info = env.step(action)\n",
        "\n",
        "            exploration = random.uniform(0,1)\n",
        "            if exploration < epsilon:\n",
        "                next_action = env.action_space.sample()\n",
        "            else:\n",
        "                next_action = np.argmax(q_table[next_state, :])\n",
        "\n",
        "\n",
        "            q_table[state, action] = q_table[state, action] * (1 - learning_rate) + learning_rate * (reward + gamma * q_table[next_state, next_action])\n",
        "\n",
        "            reward_episode += reward\n",
        "            state = next_state\n",
        "            action = next_action\n",
        "\n",
        "            if done:\n",
        "                break\n",
        "        rewards_all.append(reward_episode)\n",
        "    print(f'Episode {episode} finished')\n",
        "    return q_table, rewards_all"
      ],
      "execution_count": 37,
      "outputs": []
    },
    {
      "cell_type": "markdown",
      "source": [
        "### TEST"
      ],
      "metadata": {
        "id": "hyCsTqi53OXw"
      }
    },
    {
      "cell_type": "code",
      "metadata": {
        "colab": {
          "base_uri": "https://localhost:8080/"
        },
        "outputId": "b5e466be-409f-481c-f4d5-976e0eb6905e",
        "id": "H1BQ0ymU3OXw"
      },
      "source": [
        "np.random.seed(1)\n",
        "q_table, rewards_all = sarsa(env, num_episodes, num_steps_per_episode, learning_rate, gamma, max_epsilon, min_epsilon, epsilon_decay_rate)"
      ],
      "execution_count": 38,
      "outputs": [
        {
          "output_type": "stream",
          "name": "stdout",
          "text": [
            "Episode 19999 finished\n"
          ]
        }
      ]
    },
    {
      "cell_type": "code",
      "metadata": {
        "colab": {
          "base_uri": "https://localhost:8080/"
        },
        "outputId": "6c9916da-65b7-4a99-e5ae-97c6b669f98f",
        "id": "Ihh_0tmx3OXw"
      },
      "source": [
        "q_table"
      ],
      "execution_count": 39,
      "outputs": [
        {
          "output_type": "execute_result",
          "data": {
            "text/plain": [
              "array([[5.36544872e-01, 4.75805416e-01, 4.79128783e-01, 4.77086667e-01],\n",
              "       [2.57337021e-01, 1.97656642e-01, 1.98271284e-01, 4.32334476e-01],\n",
              "       [3.12831558e-01, 2.62301467e-01, 2.48964345e-01, 2.57359284e-01],\n",
              "       [2.01582336e-01, 7.06600625e-03, 3.89108725e-04, 1.18781695e-02],\n",
              "       [5.42271305e-01, 4.58313552e-01, 2.74033323e-01, 3.15704984e-01],\n",
              "       [0.00000000e+00, 0.00000000e+00, 0.00000000e+00, 0.00000000e+00],\n",
              "       [2.43057318e-01, 1.80591216e-01, 1.78609699e-01, 6.66792522e-02],\n",
              "       [0.00000000e+00, 0.00000000e+00, 0.00000000e+00, 0.00000000e+00],\n",
              "       [4.37767895e-01, 3.18980627e-01, 3.91460219e-01, 5.45955474e-01],\n",
              "       [4.40664667e-01, 5.76772114e-01, 4.27477735e-01, 3.42710582e-01],\n",
              "       [5.00208796e-01, 3.82410477e-01, 2.40352725e-01, 3.14554483e-01],\n",
              "       [0.00000000e+00, 0.00000000e+00, 0.00000000e+00, 0.00000000e+00],\n",
              "       [0.00000000e+00, 0.00000000e+00, 0.00000000e+00, 0.00000000e+00],\n",
              "       [5.09568105e-01, 6.29035434e-01, 7.62016124e-01, 4.68010819e-01],\n",
              "       [7.42490412e-01, 8.82420182e-01, 7.60261427e-01, 7.31732787e-01],\n",
              "       [0.00000000e+00, 0.00000000e+00, 0.00000000e+00, 0.00000000e+00]])"
            ]
          },
          "metadata": {},
          "execution_count": 39
        }
      ]
    },
    {
      "cell_type": "code",
      "metadata": {
        "colab": {
          "base_uri": "https://localhost:8080/"
        },
        "outputId": "7f1e446e-97f9-47d8-d9d0-19ba4fccb1d6",
        "id": "tb1vQ57t3OXx"
      },
      "source": [
        "print(sum(rewards_all))\n",
        "print(sum(rewards_all[0:1000]))\n",
        "print(sum(rewards_all[1000:2000]))\n",
        "print(sum(rewards_all[2000:3000]))\n",
        "print(sum(rewards_all[9000:10000]))\n",
        "print(sum(rewards_all[11000:12000]))\n",
        "print(sum(rewards_all[14000:15000]))\n",
        "print(sum(rewards_all[19000:]))\n"
      ],
      "execution_count": 40,
      "outputs": [
        {
          "output_type": "stream",
          "name": "stdout",
          "text": [
            "13053.0\n",
            "252.0\n",
            "576.0\n",
            "680.0\n",
            "667.0\n",
            "664.0\n",
            "703.0\n",
            "700.0\n"
          ]
        }
      ]
    },
    {
      "cell_type": "markdown",
      "source": [
        "# Compare Model"
      ],
      "metadata": {
        "id": "y0p65aOTCmLs"
      }
    },
    {
      "cell_type": "markdown",
      "source": [
        "### FrozenLake-v0"
      ],
      "metadata": {
        "id": "KeK6vSpcF3n8"
      }
    },
    {
      "cell_type": "code",
      "source": [
        "env = gym.make('FrozenLake-v0')\n",
        "# for i in range(10):\n",
        "i = 0\n",
        "np.random.seed(i)\n",
        "q_table_1, rewards_all_1 = sarsa(env, num_episodes, num_steps_per_episode, learning_rate, gamma, max_epsilon, min_epsilon, epsilon_decay_rate)\n",
        "np.random.seed(i)\n",
        "q_table_2, rewards_all_2 = sarsa(env, num_episodes, num_steps_per_episode, learning_rate, gamma, max_epsilon, min_epsilon, epsilon_decay_rate)\n",
        "\n",
        "\n",
        "x = [i for i in range(0, 20000, 1000)]\n",
        "y_q_learning = [sum(rewards_all_1[i: i+1000]) for i in range(0, 20000, 1000)]\n",
        "y_sarsa = [sum(rewards_all_2[i: i+1000]) for i in range(0, 20000, 1000)]\n",
        "\n"
      ],
      "metadata": {
        "colab": {
          "base_uri": "https://localhost:8080/"
        },
        "id": "EFpp7RrqCyks",
        "outputId": "28195b54-9e97-41a3-d211-7f77a7440432"
      },
      "execution_count": 41,
      "outputs": [
        {
          "output_type": "stream",
          "name": "stdout",
          "text": [
            "Episode 19999 finished\n",
            "Episode 19999 finished\n"
          ]
        }
      ]
    },
    {
      "cell_type": "code",
      "source": [
        "import matplotlib.pyplot as plt\n",
        "\n",
        "plt.figure(figsize=(8, 6), dpi=80)\n",
        "plt.title(f\"Compare on FrozenLake-v0\")\n",
        "plt.xlabel(\"Number of episodes\")\n",
        "plt.ylabel(\"Sum reward each 1000 episodes\")\n",
        "# plt.ylim(0, max plt.ticklabel_format(style='sci', axis='y', scilimits=(1,100))\n",
        "plt.plot(x, y_q_learning, label = \"Q-learning\")\n",
        "# plt.fill_between(y_DE, x + error_bar_DE, x_DE - error_bar_DE, alpha=0.3)\n",
        "plt.plot(x, y_sarsa, label = \"Sarsa\")\n",
        "# plt.fill_between(y_ES, x_ES + error_bar_ES, x_ES - error_bar_ES, alpha=0.3)\n",
        "plt.legend()\n",
        "plt.show()"
      ],
      "metadata": {
        "colab": {
          "base_uri": "https://localhost:8080/",
          "height": 444
        },
        "id": "Q3_XqwOrES_p",
        "outputId": "a9264401-9aee-4c34-d92f-2e24188b4533"
      },
      "execution_count": 42,
      "outputs": [
        {
          "output_type": "display_data",
          "data": {
            "image/png": "[encoded data removed]",
            "text/plain": [
              "<Figure size 640x480 with 1 Axes>"
            ]
          },
          "metadata": {
            "needs_background": "light"
          }
        }
      ]
    },
    {
      "cell_type": "markdown",
      "source": [
        "### FrozenLake8x8-v0"
      ],
      "metadata": {
        "id": "Lb3Bdwt9F7hj"
      }
    },
    {
      "cell_type": "code",
      "source": [
        "# Hyperparameters\n",
        "gamma = 0.99\n",
        "learning_rate = 0.1\n",
        "max_epsilon = 1.0\n",
        "min_epsilon = 0.01\n",
        "epsilon_decay_rate = 0.0002\n",
        "\n",
        "num_episodes = 1000000\n",
        "num_steps_per_episode = 300"
      ],
      "metadata": {
        "id": "mh54jbG3M-Y5"
      },
      "execution_count": 72,
      "outputs": []
    },
    {
      "cell_type": "code",
      "source": [
        "env = gym.make('FrozenLake8x8-v0')\n",
        "# for i in range(10):\n",
        "i = 0\n",
        "np.random.seed(i)\n",
        "q_table_1, rewards_all_1 = sarsa(env, num_episodes, num_steps_per_episode, learning_rate, gamma, max_epsilon, min_epsilon, epsilon_decay_rate)\n",
        "np.random.seed(i)\n",
        "q_table_2, rewards_all_2 = sarsa(env, num_episodes, num_steps_per_episode, learning_rate, gamma, max_epsilon, min_epsilon, epsilon_decay_rate)\n",
        "\n",
        "\n",
        "x = [i for i in range(0, num_episodes, 1000)]\n",
        "y_q_learning = [sum(rewards_all_1[i: i+1000]) for i in range(0, num_episodes, 1000)]\n",
        "y_sarsa = [sum(rewards_all_2[i: i+1000]) for i in range(0, num_episodes, 1000)]\n",
        "\n"
      ],
      "metadata": {
        "colab": {
          "base_uri": "https://localhost:8080/"
        },
        "outputId": "48403b6d-50ef-4288-a164-6acfb4cdb3fa",
        "id": "tGs1bswyF7hk"
      },
      "execution_count": 73,
      "outputs": [
        {
          "output_type": "stream",
          "name": "stdout",
          "text": [
            "Episode 999999 finished\n",
            "Episode 999999 finished\n"
          ]
        }
      ]
    },
    {
      "cell_type": "code",
      "source": [
        "q_table_2"
      ],
      "metadata": {
        "colab": {
          "base_uri": "https://localhost:8080/"
        },
        "id": "gVhouL0KyFJc",
        "outputId": "aade9ecd-8d39-4518-abc4-632bd1546679"
      },
      "execution_count": 74,
      "outputs": [
        {
          "output_type": "execute_result",
          "data": {
            "text/plain": [
              "array([[0.3634802 , 0.37810651, 0.36367668, 0.36136756],\n",
              "       [0.37026789, 0.3666014 , 0.39581611, 0.36803527],\n",
              "       [0.39262245, 0.39233704, 0.41532297, 0.39078189],\n",
              "       [0.40663941, 0.41910194, 0.43807902, 0.40365806],\n",
              "       [0.43243904, 0.43202214, 0.46797304, 0.42973809],\n",
              "       [0.45621632, 0.46752217, 0.49098225, 0.45288601],\n",
              "       [0.47791573, 0.47951259, 0.5064853 , 0.48109913],\n",
              "       [0.48579945, 0.47212707, 0.51611148, 0.47393555],\n",
              "       [0.35195513, 0.35795432, 0.36069234, 0.37521378],\n",
              "       [0.35962875, 0.364305  , 0.3635943 , 0.37964324],\n",
              "       [0.36080461, 0.36819227, 0.35885759, 0.40699333],\n",
              "       [0.31950293, 0.24714918, 0.29169124, 0.42966165],\n",
              "       [0.41906921, 0.41478609, 0.41612008, 0.45694579],\n",
              "       [0.44712323, 0.45511962, 0.45726381, 0.48423105],\n",
              "       [0.48335333, 0.47982118, 0.51536466, 0.48856058],\n",
              "       [0.49937009, 0.52710308, 0.51149971, 0.50821456],\n",
              "       [0.32325091, 0.32248448, 0.32227711, 0.36205406],\n",
              "       [0.31287595, 0.31273792, 0.31616166, 0.3667258 ],\n",
              "       [0.34287676, 0.20372482, 0.22558793, 0.18507518],\n",
              "       [0.        , 0.        , 0.        , 0.        ],\n",
              "       [0.23464203, 0.24472147, 0.40615575, 0.22933046],\n",
              "       [0.32809806, 0.28899213, 0.34636067, 0.45509332],\n",
              "       [0.49261505, 0.48468287, 0.53112789, 0.49747768],\n",
              "       [0.53284774, 0.53385604, 0.56274954, 0.52914158],\n",
              "       [0.29781615, 0.29398396, 0.29232956, 0.31811563],\n",
              "       [0.27304791, 0.26341591, 0.26362273, 0.30694691],\n",
              "       [0.21994456, 0.18180702, 0.19516994, 0.27988031],\n",
              "       [0.10009883, 0.09447208, 0.08627524, 0.15725089],\n",
              "       [0.25099888, 0.15467913, 0.19047113, 0.17813849],\n",
              "       [0.        , 0.        , 0.        , 0.        ],\n",
              "       [0.39011146, 0.33029452, 0.53863309, 0.45644916],\n",
              "       [0.55801352, 0.58879791, 0.629504  , 0.56132537],\n",
              "       [0.07472446, 0.12171523, 0.05406779, 0.26966607],\n",
              "       [0.10229007, 0.07923372, 0.09254702, 0.23294866],\n",
              "       [0.20357814, 0.04470199, 0.07140404, 0.08923112],\n",
              "       [0.        , 0.        , 0.        , 0.        ],\n",
              "       [0.12363697, 0.12702017, 0.25259067, 0.096703  ],\n",
              "       [0.15911037, 0.32009058, 0.24647167, 0.21583975],\n",
              "       [0.28061936, 0.37061276, 0.34005429, 0.51784071],\n",
              "       [0.60356998, 0.59748606, 0.72606527, 0.58674747],\n",
              "       [0.02643535, 0.03124846, 0.01895882, 0.07350159],\n",
              "       [0.        , 0.        , 0.        , 0.        ],\n",
              "       [0.        , 0.        , 0.        , 0.        ],\n",
              "       [0.01160664, 0.05153213, 0.02158497, 0.00801316],\n",
              "       [0.08384656, 0.07773504, 0.08487691, 0.17894363],\n",
              "       [0.2309335 , 0.09823005, 0.15020797, 0.14063998],\n",
              "       [0.        , 0.        , 0.        , 0.        ],\n",
              "       [0.49785373, 0.66841573, 0.80859811, 0.39143357],\n",
              "       [0.06062186, 0.03410336, 0.01680016, 0.01420483],\n",
              "       [0.        , 0.        , 0.        , 0.        ],\n",
              "       [0.00514729, 0.01148713, 0.0120258 , 0.00613404],\n",
              "       [0.0111794 , 0.00449668, 0.01133586, 0.02623411],\n",
              "       [0.        , 0.        , 0.        , 0.        ],\n",
              "       [0.17815602, 0.1368187 , 0.12243292, 0.04783819],\n",
              "       [0.        , 0.        , 0.        , 0.        ],\n",
              "       [0.6348474 , 0.61783339, 0.88716224, 0.50719771],\n",
              "       [0.05360039, 0.04347831, 0.05666649, 0.05914408],\n",
              "       [0.03975595, 0.0499285 , 0.033005  , 0.02108797],\n",
              "       [0.029357  , 0.02812487, 0.02305162, 0.01678126],\n",
              "       [0.        , 0.        , 0.        , 0.        ],\n",
              "       [0.06198261, 0.18474949, 0.09068188, 0.0855218 ],\n",
              "       [0.29429292, 0.3359921 , 0.48274554, 0.30637902],\n",
              "       [0.38684937, 0.75245654, 0.59939283, 0.43467861],\n",
              "       [0.        , 0.        , 0.        , 0.        ]])"
            ]
          },
          "metadata": {},
          "execution_count": 74
        }
      ]
    },
    {
      "cell_type": "code",
      "source": [
        "q_table_1"
      ],
      "metadata": {
        "colab": {
          "base_uri": "https://localhost:8080/"
        },
        "id": "KhgJAHPkyEiC",
        "outputId": "aeb36d98-4a0f-45b5-c3bb-1adf805adae0"
      },
      "execution_count": 75,
      "outputs": [
        {
          "output_type": "execute_result",
          "data": {
            "text/plain": [
              "array([[0.37099517, 0.37153374, 0.38358575, 0.36998471],\n",
              "       [0.36988218, 0.38081933, 0.39968955, 0.38182305],\n",
              "       [0.3931404 , 0.40106541, 0.40475286, 0.3963573 ],\n",
              "       [0.41449413, 0.41109316, 0.42768782, 0.41508281],\n",
              "       [0.43338527, 0.44169553, 0.45245174, 0.44383338],\n",
              "       [0.45053763, 0.45380027, 0.48310234, 0.45938462],\n",
              "       [0.48256151, 0.48843825, 0.49160713, 0.48214747],\n",
              "       [0.49591751, 0.48562945, 0.4886903 , 0.48618463],\n",
              "       [0.36873961, 0.36271752, 0.36861174, 0.37791381],\n",
              "       [0.36756651, 0.3755865 , 0.36984567, 0.38812198],\n",
              "       [0.36527312, 0.37478285, 0.36876219, 0.39876177],\n",
              "       [0.32027009, 0.28721386, 0.24080032, 0.41580479],\n",
              "       [0.40639934, 0.39956573, 0.415419  , 0.43513342],\n",
              "       [0.44627545, 0.45876354, 0.48161983, 0.44707153],\n",
              "       [0.48782907, 0.48945016, 0.50210797, 0.49146155],\n",
              "       [0.50024914, 0.50589556, 0.51120485, 0.49739063],\n",
              "       [0.33128383, 0.32954958, 0.33159164, 0.36015987],\n",
              "       [0.31788299, 0.31893914, 0.32750968, 0.35406621],\n",
              "       [0.33182324, 0.18828344, 0.18814086, 0.21660622],\n",
              "       [0.        , 0.        , 0.        , 0.        ],\n",
              "       [0.23809066, 0.27677236, 0.3956674 , 0.18293625],\n",
              "       [0.24199016, 0.40012259, 0.39087672, 0.46446965],\n",
              "       [0.49547413, 0.49211462, 0.50937103, 0.49169445],\n",
              "       [0.52097797, 0.5273463 , 0.52186612, 0.52092494],\n",
              "       [0.30197262, 0.29220996, 0.30037645, 0.32126427],\n",
              "       [0.27298526, 0.26970914, 0.2655809 , 0.30515752],\n",
              "       [0.19859223, 0.18773254, 0.22917805, 0.25799918],\n",
              "       [0.06489373, 0.13439611, 0.08526233, 0.09709273],\n",
              "       [0.26431077, 0.11271168, 0.13543621, 0.16528707],\n",
              "       [0.        , 0.        , 0.        , 0.        ],\n",
              "       [0.34993366, 0.39779416, 0.52374397, 0.29225025],\n",
              "       [0.55218254, 0.54474628, 0.57383548, 0.55568441],\n",
              "       [0.17981187, 0.09286848, 0.18756857, 0.25514452],\n",
              "       [0.14049698, 0.07633765, 0.07230203, 0.22881163],\n",
              "       [0.0776501 , 0.054405  , 0.07883978, 0.14219921],\n",
              "       [0.        , 0.        , 0.        , 0.        ],\n",
              "       [0.15474677, 0.09061211, 0.26007299, 0.18297842],\n",
              "       [0.19970146, 0.32437747, 0.24097724, 0.14588429],\n",
              "       [0.26909645, 0.3809926 , 0.32160281, 0.47516584],\n",
              "       [0.58127424, 0.6068661 , 0.63915763, 0.59841043],\n",
              "       [0.01677684, 0.01544719, 0.00536533, 0.09506826],\n",
              "       [0.        , 0.        , 0.        , 0.        ],\n",
              "       [0.        , 0.        , 0.        , 0.        ],\n",
              "       [0.00581693, 0.07841121, 0.02006807, 0.01997698],\n",
              "       [0.07210559, 0.09562861, 0.0992644 , 0.20105054],\n",
              "       [0.25451204, 0.13374877, 0.20027951, 0.13961009],\n",
              "       [0.        , 0.        , 0.        , 0.        ],\n",
              "       [0.53879139, 0.62937484, 0.73055285, 0.42502678],\n",
              "       [0.01667607, 0.0104835 , 0.05164774, 0.03214806],\n",
              "       [0.        , 0.        , 0.        , 0.        ],\n",
              "       [0.00846501, 0.02673543, 0.00977931, 0.00683825],\n",
              "       [0.0284156 , 0.00883519, 0.0084583 , 0.00693286],\n",
              "       [0.        , 0.        , 0.        , 0.        ],\n",
              "       [0.14904027, 0.17130274, 0.29326067, 0.01820094],\n",
              "       [0.        , 0.        , 0.        , 0.        ],\n",
              "       [0.52270165, 0.74085285, 0.86511984, 0.55400438],\n",
              "       [0.0608272 , 0.03620907, 0.03376247, 0.02836121],\n",
              "       [0.02440445, 0.05894321, 0.01003052, 0.01653839],\n",
              "       [0.04331827, 0.01867407, 0.01843371, 0.00960892],\n",
              "       [0.        , 0.        , 0.        , 0.        ],\n",
              "       [0.05765952, 0.21231344, 0.11408115, 0.10891236],\n",
              "       [0.22580431, 0.33870122, 0.56300231, 0.3771317 ],\n",
              "       [0.43275821, 0.79803154, 0.61951192, 0.41402278],\n",
              "       [0.        , 0.        , 0.        , 0.        ]])"
            ]
          },
          "metadata": {},
          "execution_count": 75
        }
      ]
    },
    {
      "cell_type": "code",
      "source": [
        "import matplotlib.pyplot as plt\n",
        "\n",
        "plt.figure(figsize=(8, 6), dpi=80)\n",
        "plt.title(f\"Compare\")\n",
        "plt.xlabel(\"Number of episodes\")\n",
        "plt.ylabel(\"Sum reward\")\n",
        "# plt.ylim(0, max plt.ticklabel_format(style='sci', axis='y', scilimits=(1,100))\n",
        "plt.plot(x, y_q_learning, label = \"Q-learning\")\n",
        "# plt.fill_between(y_DE, x + error_bar_DE, x_DE - error_bar_DE, alpha=0.3)\n",
        "plt.plot(x, y_sarsa, label = \"Sarsa\")\n",
        "# plt.fill_between(y_ES, x_ES + error_bar_ES, x_ES - error_bar_ES, alpha=0.3)\n",
        "plt.legend()\n",
        "plt.show()"
      ],
      "metadata": {
        "colab": {
          "base_uri": "https://localhost:8080/",
          "height": 444
        },
        "outputId": "c15fac5b-3dda-4c06-fe22-b2345a03c8d5",
        "id": "Sq6ojpkgF7hk"
      },
      "execution_count": 76,
      "outputs": [
        {
          "output_type": "display_data",
          "data": {
            "image/png": "[encoded data removed]",
            "text/plain": [
              "<Figure size 640x480 with 1 Axes>"
            ]
          },
          "metadata": {
            "needs_background": "light"
          }
        }
      ]
    },
    {
      "cell_type": "markdown",
      "source": [
        "### Taxi-v3"
      ],
      "metadata": {
        "id": "n87tK2m7F70Z"
      }
    },
    {
      "cell_type": "code",
      "source": [
        "# Hyperparameters\n",
        "gamma = 0.99\n",
        "learning_rate = 0.1\n",
        "max_epsilon = 1.0\n",
        "min_epsilon = 0.01\n",
        "epsilon_decay_rate = 0.005\n",
        "\n",
        "num_episodes = 20000\n",
        "num_steps_per_episode = 100"
      ],
      "metadata": {
        "id": "alta27QJ4TUu"
      },
      "execution_count": 60,
      "outputs": []
    },
    {
      "cell_type": "code",
      "source": [
        "env = gym.make('Taxi-v3')\n",
        "# for i in range(10):\n",
        "i = 0\n",
        "np.random.seed(i)\n",
        "q_table_1, rewards_all_1 = sarsa(env, num_episodes, num_steps_per_episode, learning_rate, gamma, max_epsilon, min_epsilon, epsilon_decay_rate)\n",
        "np.random.seed(i)\n",
        "q_table_2, rewards_all_2 = sarsa(env, num_episodes, num_steps_per_episode, learning_rate, gamma, max_epsilon, min_epsilon, epsilon_decay_rate)\n",
        "\n",
        "\n",
        "x = [i for i in range(0, num_episodes, 1000)]\n",
        "y_q_learning = [sum(rewards_all_1[i: i+1000]) for i in range(0, num_episodes, 1000)]\n",
        "y_sarsa = [sum(rewards_all_2[i: i+1000]) for i in range(0, num_episodes, 1000)]\n",
        "\n"
      ],
      "metadata": {
        "colab": {
          "base_uri": "https://localhost:8080/"
        },
        "outputId": "cad39743-0b84-45e2-bda3-5861c406e5a0",
        "id": "HmKqebonF70a"
      },
      "execution_count": 61,
      "outputs": [
        {
          "output_type": "stream",
          "name": "stdout",
          "text": [
            "Episode 19999 finished\n",
            "Episode 19999 finished\n"
          ]
        }
      ]
    },
    {
      "cell_type": "code",
      "source": [
        "import matplotlib.pyplot as plt\n",
        "\n",
        "plt.figure(figsize=(8, 6), dpi=80)\n",
        "plt.title(f\"Compare\")\n",
        "plt.xlabel(\"Number of episodes\")\n",
        "plt.ylabel(\"Sum reward\")\n",
        "plt.ylim((0, 10000)) \n",
        "plt.plot(x, y_q_learning, label = \"Q-learning\")\n",
        "# plt.fill_between(y_DE, x + error_bar_DE, x_DE - error_bar_DE, alpha=0.3)\n",
        "plt.plot(x, y_sarsa, label = \"Sarsa\")\n",
        "# plt.fill_between(y_ES, x_ES + error_bar_ES, x_ES - error_bar_ES, alpha=0.3)\n",
        "plt.legend()\n",
        "plt.show()"
      ],
      "metadata": {
        "colab": {
          "base_uri": "https://localhost:8080/",
          "height": 444
        },
        "outputId": "04c1545e-afa4-42eb-b092-e9a34af5c81c",
        "id": "P_znRAuyF70a"
      },
      "execution_count": 67,
      "outputs": [
        {
          "output_type": "display_data",
          "data": {
            "image/png": "[encoded data removed]",
            "text/plain": [
              "<Figure size 640x480 with 1 Axes>"
            ]
          },
          "metadata": {
            "needs_background": "light"
          }
        }
      ]
    },
    {
      "cell_type": "markdown",
      "source": [
        "# Nhận xét\n",
        "- Về cách triển khai:\n",
        "  + Cả hai cách tiếp cận đều hoạt động trong một môi trường hữu hạn.\n",
        "  + Q-Learning và SARSA đều lưu trữ reward của trạng thái hiện tại và hành động tương ứng để cập nhật trong tương lai. Tuy nhiên,Q-Learning trực tiếp tìm kiếm chính sách tối ưu trong khi SARSA tìm kiếm chính sách tối ưu “gần”. Q-Learning là một tác nhân tích cực hơn, trong khi SARSA tỏ ra thận trọng hơn. Một ví dụ là đi bộ gần vách đá. QL sẽ đi con đường ngắn nhất vì nó là tối ưu (với nguy cơ bị ngã), trong khi SARSA sẽ đi con đường dài hơn, an toàn hơn (để tránh bị ngã bất ngờ.\n",
        "- Về thực nghiệm:\n",
        "  + Q-Learning cho thấy khả năng hội tụ nhanh hơn so với Sarsa.\n",
        "  + Cả 2 bài toán đều có thể tìm ra được lời giải cho cả 3 môi trường.\n",
        "  + Tuy nhiên, khi kích thước bài lớn ta cần mở rộng trạng thái ngẫu nhiên để từ đó agent có thể khám phá được lời giải cho bài toán."
      ],
      "metadata": {
        "id": "78G5rFwMJ2Ag"
      }
    }
  ]
}